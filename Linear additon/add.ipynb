{
 "cells": [
  {
   "cell_type": "code",
   "execution_count": 1,
   "metadata": {},
   "outputs": [],
   "source": [
    "import numpy as np"
   ]
  },
  {
   "cell_type": "code",
   "execution_count": 2,
   "metadata": {},
   "outputs": [
    {
     "name": "stdout",
     "output_type": "stream",
     "text": [
      "[[0.86095268 0.95453925]\n",
      " [0.31142681 0.14128159]\n",
      " [0.60083363 0.27468663]\n",
      " ...\n",
      " [0.5197717  0.26814003]\n",
      " [0.72646606 0.50725124]\n",
      " [0.897244   0.49214688]]\n"
     ]
    }
   ],
   "source": [
    "x = np.random.rand(2000,2)\n",
    "print(x)"
   ]
  },
  {
   "cell_type": "code",
   "execution_count": 3,
   "metadata": {},
   "outputs": [],
   "source": [
    "c = np.array([5,9])\n",
    "y = np.array([np.dot(c,z) for z in x])\n",
    "y = np.reshape(y,(2000,1))"
   ]
  },
  {
   "cell_type": "code",
   "execution_count": 4,
   "metadata": {},
   "outputs": [
    {
     "name": "stdout",
     "output_type": "stream",
     "text": [
      "[[12.8956166 ]\n",
      " [ 2.8286683 ]\n",
      " [ 5.47634783]\n",
      " ...\n",
      " [ 5.01211876]\n",
      " [ 8.19759147]\n",
      " [ 8.9155419 ]]\n"
     ]
    }
   ],
   "source": [
    "print(y)"
   ]
  },
  {
   "cell_type": "code",
   "execution_count": 5,
   "metadata": {},
   "outputs": [],
   "source": [
    "w = np.zeros((2))"
   ]
  },
  {
   "cell_type": "code",
   "execution_count": 6,
   "metadata": {},
   "outputs": [
    {
     "data": {
      "text/plain": [
       "array([0., 0.])"
      ]
     },
     "execution_count": 6,
     "metadata": {},
     "output_type": "execute_result"
    }
   ],
   "source": [
    "w"
   ]
  },
  {
   "cell_type": "code",
   "execution_count": 7,
   "metadata": {},
   "outputs": [],
   "source": [
    "yhat = np.array([np.dot(w,z) for z in x])\n",
    "yhat = np.reshape(yhat,(2000,1))"
   ]
  },
  {
   "cell_type": "code",
   "execution_count": 8,
   "metadata": {},
   "outputs": [],
   "source": [
    "def find_inaccuracy(y,yhat):\n",
    "    n = y.size\n",
    "    cnt = 0.0\n",
    "    for i in range(n):\n",
    "        cnt+=((abs(y[i]-yhat[i])*100.0)/y[i])\n",
    "    cnt/=n\n",
    "    return cnt"
   ]
  },
  {
   "cell_type": "code",
   "execution_count": 9,
   "metadata": {},
   "outputs": [],
   "source": [
    "def loss(y,yhat):\n",
    "    n = y.length\n",
    "    cnt = 0.0\n",
    "    for i in range(n):\n",
    "        cnt+=((abs(y[i]-yhat[i]))**2)\n",
    "    cnt/=n\n",
    "    return cnt"
   ]
  },
  {
   "cell_type": "code",
   "execution_count": 10,
   "metadata": {
    "tags": []
   },
   "outputs": [
    {
     "name": "stdout",
     "output_type": "stream",
     "text": [
      "Iteration 500\n",
      "[5.04048763 8.95980855]\n",
      "[12.8956166] [12.89211022]\n",
      "Accuracy[99.77956992]%\n",
      "Iteration 1000\n",
      "[5.00082727 8.99917878]\n",
      "[12.8956166] [12.89554496]\n",
      "Accuracy[99.99549604]%\n",
      "Iteration 1500\n",
      "[5.0000169  8.99998322]\n",
      "[12.8956166] [12.89561514]\n",
      "Accuracy[99.99990797]%\n",
      "Iteration 2000\n",
      "[5.00000035 8.99999966]\n",
      "[12.8956166] [12.89561657]\n",
      "Accuracy[99.99999812]%\n",
      "Iteration 2500\n",
      "[5.00000001 8.99999999]\n",
      "[12.8956166] [12.8956166]\n",
      "Accuracy[99.99999996]%\n"
     ]
    }
   ],
   "source": [
    "iterations = 2501\n",
    "N = 2000\n",
    "learning_rate = 0.0001\n",
    "for j in range(iterations):\n",
    "    dLbydw =  np.sum(x*(y-yhat),axis=0)/2\n",
    "    w = w + learning_rate*dLbydw    \n",
    "    yhat = np.array([np.dot(w,z) for z in x])\n",
    "    yhat = np.reshape(yhat,(2000,1)) \n",
    "    if(j%500==499):\n",
    "        print(\"Iteration\",j+1)\n",
    "        print(w)\n",
    "        print(str(y[0])+\" \"+str(yhat[0]))  \n",
    "        print(\"Accuracy\" + str(abs(100-find_inaccuracy(y,yhat)))+\"%\")    "
   ]
  },
  {
   "cell_type": "code",
   "execution_count": null,
   "metadata": {},
   "outputs": [],
   "source": []
  },
  {
   "cell_type": "code",
   "execution_count": null,
   "metadata": {},
   "outputs": [],
   "source": []
  }
 ],
 "metadata": {
  "kernelspec": {
   "display_name": "Python 3",
   "language": "python",
   "name": "python3"
  },
  "language_info": {
   "codemirror_mode": {
    "name": "ipython",
    "version": 3
   },
   "file_extension": ".py",
   "mimetype": "text/x-python",
   "name": "python",
   "nbconvert_exporter": "python",
   "pygments_lexer": "ipython3",
   "version": "3.8.5"
  }
 },
 "nbformat": 4,
 "nbformat_minor": 2
}
